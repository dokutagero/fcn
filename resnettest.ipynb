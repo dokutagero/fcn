{
 "cells": [
  {
   "cell_type": "code",
   "execution_count": 1,
   "metadata": {},
   "outputs": [],
   "source": [
    "import numpy\n",
    "from PIL import Image as im\n",
    "from chainer.dataset.convert import concat_examples\n",
    "from chainer.variable import Variable\n",
    "\n",
    "import fcn.models.resnetfcn\n"
   ]
  },
  {
   "cell_type": "code",
   "execution_count": 2,
   "metadata": {},
   "outputs": [],
   "source": [
    "image = im.open('/home/bridgedegradation/repos/bridgedegradationseg/dataset/bridge_dataset/deck_a/0002.jpg')"
   ]
  },
  {
   "cell_type": "code",
   "execution_count": 3,
   "metadata": {},
   "outputs": [],
   "source": [
    "image = image.convert('RGB')\n",
    "#if size:\n",
    "#    image = image.resize(size)\n",
    "image = numpy.asarray(image, dtype=numpy.float32)\n",
    "image = image[:, :, ::-1]\n",
    "# NOTE: in the original paper they subtract a fixed mean image,\n",
    "#       however, in order to support arbitrary size we instead use the\n",
    "#       mean pixel (rather than mean image) as with VGG team. The mean\n",
    "#       value used in ResNet is slightly different from that of VGG16.\n",
    "image -= numpy.array(\n",
    "    [103.063,  115.903,  123.152], dtype=numpy.float32)\n",
    "image = image.transpose((2, 0, 1))"
   ]
  },
  {
   "cell_type": "code",
   "execution_count": 4,
   "metadata": {},
   "outputs": [],
   "source": [
    "x = concat_examples([image])\n",
    "x = Variable(x)"
   ]
  },
  {
   "cell_type": "code",
   "execution_count": 5,
   "metadata": {},
   "outputs": [],
   "source": [
    "resnet = fcn.models.resnetfcn.ResNetLayersFCN('ResNet-101-model.caffemodel', 101)"
   ]
  },
  {
   "cell_type": "code",
   "execution_count": 6,
   "metadata": {},
   "outputs": [],
   "source": [
    "y = resnet(x)"
   ]
  },
  {
   "cell_type": "code",
   "execution_count": 7,
   "metadata": {},
   "outputs": [
    {
     "data": {
      "text/plain": [
       "(1, 3, 600, 800)"
      ]
     },
     "execution_count": 7,
     "metadata": {},
     "output_type": "execute_result"
    }
   ],
   "source": [
    "x.shape"
   ]
  },
  {
   "cell_type": "code",
   "execution_count": 8,
   "metadata": {},
   "outputs": [
    {
     "data": {
      "text/plain": [
       "(1, 2, 600, 800)"
      ]
     },
     "execution_count": 8,
     "metadata": {},
     "output_type": "execute_result"
    }
   ],
   "source": [
    "y.shape  #num classes 2"
   ]
  },
  {
   "cell_type": "code",
   "execution_count": 9,
   "metadata": {},
   "outputs": [
    {
     "data": {
      "text/plain": [
       "variable([[[[-0.28330979, -0.29783851, -0.3123672 , ..., -0.23703083,\n",
       "             -0.22173852, -0.2064462 ],\n",
       "            [-0.29783851, -0.31311226, -0.32838604, ..., -0.24918626,\n",
       "             -0.23310973, -0.21703319],\n",
       "            [-0.3123672 , -0.32838604, -0.34440488, ..., -0.26134169,\n",
       "             -0.24448092, -0.22762017],\n",
       "            ..., \n",
       "            [ 1.00252056,  1.05393183,  1.10534322, ..., -1.95823908,\n",
       "             -1.83190107, -1.70556307],\n",
       "            [ 0.95986015,  1.00908375,  1.05830729, ..., -1.87490976,\n",
       "             -1.75394773, -1.63298583],\n",
       "            [ 0.91719967,  0.96423554,  1.01127148, ..., -1.79158044,\n",
       "             -1.67599452, -1.56040871]],\n",
       "\n",
       "           [[-0.36293361, -0.38154557, -0.40015754, ..., -0.71501499,\n",
       "             -0.66888499, -0.62275499],\n",
       "            [-0.38154557, -0.40111202, -0.42067847, ..., -0.75168246,\n",
       "             -0.70318681, -0.65469116],\n",
       "            [-0.40015754, -0.42067847, -0.44119936, ..., -0.78834987,\n",
       "             -0.73748863, -0.68662733],\n",
       "            ..., \n",
       "            [ 1.48222792,  1.55823958,  1.63425124, ..., -2.36880517,\n",
       "             -2.2159791 , -2.06315303],\n",
       "            [ 1.41915441,  1.49193156,  1.56470871, ..., -2.26800513,\n",
       "             -2.12168217, -1.9753592 ],\n",
       "            [ 1.35608089,  1.42562342,  1.49516606, ..., -2.16720486,\n",
       "             -2.02738523, -1.88756549]]]])"
      ]
     },
     "execution_count": 9,
     "metadata": {},
     "output_type": "execute_result"
    }
   ],
   "source": [
    "y"
   ]
  },
  {
   "cell_type": "code",
   "execution_count": null,
   "metadata": {},
   "outputs": [],
   "source": []
  }
 ],
 "metadata": {
  "kernelspec": {
   "display_name": "Python 2",
   "language": "python",
   "name": "python2"
  },
  "language_info": {
   "codemirror_mode": {
    "name": "ipython",
    "version": 2
   },
   "file_extension": ".py",
   "mimetype": "text/x-python",
   "name": "python",
   "nbconvert_exporter": "python",
   "pygments_lexer": "ipython2",
   "version": "2.7.12"
  }
 },
 "nbformat": 4,
 "nbformat_minor": 2
}
